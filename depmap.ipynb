{
 "cells": [
  {
   "cell_type": "code",
   "execution_count": 4,
   "metadata": {},
   "outputs": [],
   "source": [
    "from datasets import load_dataset\n",
    "import pandas as pd"
   ]
  },
  {
   "cell_type": "code",
   "execution_count": 48,
   "metadata": {},
   "outputs": [],
   "source": [
    "drug_metadata = pd.DataFrame(load_dataset(\"tahoebio/Tahoe-100M\",\"drug_metadata\", split=\"train\"))\n",
    "drug_metadata = drug_metadata.loc[drug_metadata[\"targets\"].notna()]\n",
    "target_to_drug = dict(zip(drug_metadata[\"targets\"], drug_metadata[\"drug\"]))\n",
    "cell_metadata = pd.DataFrame(load_dataset(\"tahoebio/Tahoe-100M\",\"cell_line_metadata\", split=\"train\"))\n",
    "depmap = pd.read_csv(\"CRISPRGeneDependency.csv\", index_col=0)"
   ]
  },
  {
   "cell_type": "code",
   "execution_count": 49,
   "metadata": {},
   "outputs": [],
   "source": [
    "depmap_to_tahoe = dict(zip(cell_metadata[\"Cell_ID_DepMap\"], cell_metadata[\"Cell_ID_Cellosaur\"]))\n",
    "depmap.index = depmap.index.map(depmap_to_tahoe)\n",
    "depmap = depmap.loc[depmap.index.notna()]\n",
    "depmap.columns = depmap.columns.map(lambda x: x.split(\" \")[0])"
   ]
  },
  {
   "cell_type": "code",
   "execution_count": 50,
   "metadata": {},
   "outputs": [],
   "source": [
    "depmap = depmap.reset_index().melt(id_vars='index')\n",
    "depmap[\"drug\"] = depmap[\"variable\"].map(target_to_drug)"
   ]
  },
  {
   "cell_type": "code",
   "execution_count": 53,
   "metadata": {},
   "outputs": [
    {
     "name": "stderr",
     "output_type": "stream",
     "text": [
      "/tmp/ipykernel_162928/1821687993.py:2: SettingWithCopyWarning: \n",
      "A value is trying to be set on a copy of a slice from a DataFrame.\n",
      "Try using .loc[row_indexer,col_indexer] = value instead\n",
      "\n",
      "See the caveats in the documentation: https://pandas.pydata.org/pandas-docs/stable/user_guide/indexing.html#returning-a-view-versus-a-copy\n",
      "  depmap[\"drug_cellline\"] = depmap[\"drug\"] + \"_\" + depmap[\"index\"]\n"
     ]
    }
   ],
   "source": [
    "depmap = depmap.dropna(subset=[\"drug\"])\n",
    "depmap[\"drug_cellline\"] = depmap[\"drug\"] + \"_\" + depmap[\"index\"]"
   ]
  },
  {
   "cell_type": "code",
   "execution_count": 56,
   "metadata": {},
   "outputs": [
    {
     "name": "stderr",
     "output_type": "stream",
     "text": [
      "/tmp/ipykernel_162928/792430270.py:2: SettingWithCopyWarning: \n",
      "A value is trying to be set on a copy of a slice from a DataFrame.\n",
      "Try using .loc[row_indexer,col_indexer] = value instead\n",
      "\n",
      "See the caveats in the documentation: https://pandas.pydata.org/pandas-docs/stable/user_guide/indexing.html#returning-a-view-versus-a-copy\n",
      "  depmap[\"depmap_dependency_score\"] = depmap[\"value\"]\n"
     ]
    }
   ],
   "source": [
    "depmap.index = depmap[\"drug_cellline\"]\n",
    "depmap[\"depmap_dependency_score\"] = depmap[\"value\"]\n",
    "depmap[[\"depmap_dependency_score\"]].to_csv(\"clin-oracle-tahoe-hack-2025/data_for_classifier/depmap_dependency_scores.tsv\", index=True, sep='\\t')"
   ]
  }
 ],
 "metadata": {
  "kernelspec": {
   "display_name": "Python 3",
   "language": "python",
   "name": "python3"
  },
  "language_info": {
   "codemirror_mode": {
    "name": "ipython",
    "version": 3
   },
   "file_extension": ".py",
   "mimetype": "text/x-python",
   "name": "python",
   "nbconvert_exporter": "python",
   "pygments_lexer": "ipython3",
   "version": "3.12.10"
  }
 },
 "nbformat": 4,
 "nbformat_minor": 2
}
